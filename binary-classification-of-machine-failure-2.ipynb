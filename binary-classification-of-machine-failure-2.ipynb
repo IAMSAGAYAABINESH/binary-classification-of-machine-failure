{
 "cells": [
  {
   "cell_type": "markdown",
   "id": "d87c0533",
   "metadata": {
    "id": "0MRC0e0KhQ0S",
    "papermill": {
     "duration": 0.009404,
     "end_time": "2023-06-21T07:32:23.687588",
     "exception": false,
     "start_time": "2023-06-21T07:32:23.678184",
     "status": "completed"
    },
    "tags": []
   },
   "source": [
    "# XGBoost Classification"
   ]
  },
  {
   "cell_type": "markdown",
   "id": "0ae765f3",
   "metadata": {
    "id": "LWd1UlMnhT2s",
    "papermill": {
     "duration": 0.006793,
     "end_time": "2023-06-21T07:32:23.701692",
     "exception": false,
     "start_time": "2023-06-21T07:32:23.694899",
     "status": "completed"
    },
    "tags": []
   },
   "source": [
    "## Importing the libraries"
   ]
  },
  {
   "cell_type": "code",
   "execution_count": 1,
   "id": "06d73ac5",
   "metadata": {
    "execution": {
     "iopub.execute_input": "2023-06-21T07:32:23.717749Z",
     "iopub.status.busy": "2023-06-21T07:32:23.717250Z",
     "iopub.status.idle": "2023-06-21T07:32:25.896971Z",
     "shell.execute_reply": "2023-06-21T07:32:25.895869Z"
    },
    "id": "YvGPUQaHhXfL",
    "papermill": {
     "duration": 2.190801,
     "end_time": "2023-06-21T07:32:25.899580",
     "exception": false,
     "start_time": "2023-06-21T07:32:23.708779",
     "status": "completed"
    },
    "tags": []
   },
   "outputs": [],
   "source": [
    "import numpy as np\n",
    "import matplotlib.pyplot as plt\n",
    "import pandas as pd\n",
    "import seaborn as sns\n",
    "import sklearn\n",
    "import catboost"
   ]
  },
  {
   "cell_type": "markdown",
   "id": "e2adbc57",
   "metadata": {
    "id": "K1VMqkGvhc3-",
    "papermill": {
     "duration": 0.006901,
     "end_time": "2023-06-21T07:32:25.913953",
     "exception": false,
     "start_time": "2023-06-21T07:32:25.907052",
     "status": "completed"
    },
    "tags": []
   },
   "source": [
    "## Importing the dataset"
   ]
  },
  {
   "cell_type": "code",
   "execution_count": 2,
   "id": "cced57c3",
   "metadata": {
    "execution": {
     "iopub.execute_input": "2023-06-21T07:32:25.930622Z",
     "iopub.status.busy": "2023-06-21T07:32:25.929973Z",
     "iopub.status.idle": "2023-06-21T07:32:26.341867Z",
     "shell.execute_reply": "2023-06-21T07:32:26.340695Z"
    },
    "id": "M52QDmyzhh9s",
    "papermill": {
     "duration": 0.423153,
     "end_time": "2023-06-21T07:32:26.344333",
     "exception": false,
     "start_time": "2023-06-21T07:32:25.921180",
     "status": "completed"
    },
    "tags": []
   },
   "outputs": [],
   "source": [
    "dataset = pd.read_csv(r'/kaggle/input/playground-series-s3e17/train.csv')\n",
    "test = pd.read_csv(r'/kaggle/input/playground-series-s3e17/test.csv')"
   ]
  },
  {
   "cell_type": "code",
   "execution_count": 3,
   "id": "3cb79855",
   "metadata": {
    "execution": {
     "iopub.execute_input": "2023-06-21T07:32:26.362022Z",
     "iopub.status.busy": "2023-06-21T07:32:26.361623Z",
     "iopub.status.idle": "2023-06-21T07:32:26.399609Z",
     "shell.execute_reply": "2023-06-21T07:32:26.398497Z"
    },
    "id": "XhOrcEVMDNK2",
    "outputId": "ef3ffe87-5b63-41cd-b26b-5d3badd889b7",
    "papermill": {
     "duration": 0.05044,
     "end_time": "2023-06-21T07:32:26.402374",
     "exception": false,
     "start_time": "2023-06-21T07:32:26.351934",
     "status": "completed"
    },
    "tags": []
   },
   "outputs": [
    {
     "data": {
      "text/html": [
       "<div>\n",
       "<style scoped>\n",
       "    .dataframe tbody tr th:only-of-type {\n",
       "        vertical-align: middle;\n",
       "    }\n",
       "\n",
       "    .dataframe tbody tr th {\n",
       "        vertical-align: top;\n",
       "    }\n",
       "\n",
       "    .dataframe thead th {\n",
       "        text-align: right;\n",
       "    }\n",
       "</style>\n",
       "<table border=\"1\" class=\"dataframe\">\n",
       "  <thead>\n",
       "    <tr style=\"text-align: right;\">\n",
       "      <th></th>\n",
       "      <th>id</th>\n",
       "      <th>Product ID</th>\n",
       "      <th>Type</th>\n",
       "      <th>Air temperature [K]</th>\n",
       "      <th>Process temperature [K]</th>\n",
       "      <th>Rotational speed [rpm]</th>\n",
       "      <th>Torque [Nm]</th>\n",
       "      <th>Tool wear [min]</th>\n",
       "      <th>Machine failure</th>\n",
       "      <th>TWF</th>\n",
       "      <th>HDF</th>\n",
       "      <th>PWF</th>\n",
       "      <th>OSF</th>\n",
       "      <th>RNF</th>\n",
       "    </tr>\n",
       "  </thead>\n",
       "  <tbody>\n",
       "    <tr>\n",
       "      <th>0</th>\n",
       "      <td>0</td>\n",
       "      <td>L50096</td>\n",
       "      <td>L</td>\n",
       "      <td>300.6</td>\n",
       "      <td>309.6</td>\n",
       "      <td>1596</td>\n",
       "      <td>36.1</td>\n",
       "      <td>140</td>\n",
       "      <td>0</td>\n",
       "      <td>0</td>\n",
       "      <td>0</td>\n",
       "      <td>0</td>\n",
       "      <td>0</td>\n",
       "      <td>0</td>\n",
       "    </tr>\n",
       "    <tr>\n",
       "      <th>1</th>\n",
       "      <td>1</td>\n",
       "      <td>M20343</td>\n",
       "      <td>M</td>\n",
       "      <td>302.6</td>\n",
       "      <td>312.1</td>\n",
       "      <td>1759</td>\n",
       "      <td>29.1</td>\n",
       "      <td>200</td>\n",
       "      <td>0</td>\n",
       "      <td>0</td>\n",
       "      <td>0</td>\n",
       "      <td>0</td>\n",
       "      <td>0</td>\n",
       "      <td>0</td>\n",
       "    </tr>\n",
       "    <tr>\n",
       "      <th>2</th>\n",
       "      <td>2</td>\n",
       "      <td>L49454</td>\n",
       "      <td>L</td>\n",
       "      <td>299.3</td>\n",
       "      <td>308.5</td>\n",
       "      <td>1805</td>\n",
       "      <td>26.5</td>\n",
       "      <td>25</td>\n",
       "      <td>0</td>\n",
       "      <td>0</td>\n",
       "      <td>0</td>\n",
       "      <td>0</td>\n",
       "      <td>0</td>\n",
       "      <td>0</td>\n",
       "    </tr>\n",
       "    <tr>\n",
       "      <th>3</th>\n",
       "      <td>3</td>\n",
       "      <td>L53355</td>\n",
       "      <td>L</td>\n",
       "      <td>301.0</td>\n",
       "      <td>310.9</td>\n",
       "      <td>1524</td>\n",
       "      <td>44.3</td>\n",
       "      <td>197</td>\n",
       "      <td>0</td>\n",
       "      <td>0</td>\n",
       "      <td>0</td>\n",
       "      <td>0</td>\n",
       "      <td>0</td>\n",
       "      <td>0</td>\n",
       "    </tr>\n",
       "    <tr>\n",
       "      <th>4</th>\n",
       "      <td>4</td>\n",
       "      <td>M24050</td>\n",
       "      <td>M</td>\n",
       "      <td>298.0</td>\n",
       "      <td>309.0</td>\n",
       "      <td>1641</td>\n",
       "      <td>35.4</td>\n",
       "      <td>34</td>\n",
       "      <td>0</td>\n",
       "      <td>0</td>\n",
       "      <td>0</td>\n",
       "      <td>0</td>\n",
       "      <td>0</td>\n",
       "      <td>0</td>\n",
       "    </tr>\n",
       "  </tbody>\n",
       "</table>\n",
       "</div>"
      ],
      "text/plain": [
       "   id Product ID Type  Air temperature [K]  Process temperature [K]  \\\n",
       "0   0     L50096    L                300.6                    309.6   \n",
       "1   1     M20343    M                302.6                    312.1   \n",
       "2   2     L49454    L                299.3                    308.5   \n",
       "3   3     L53355    L                301.0                    310.9   \n",
       "4   4     M24050    M                298.0                    309.0   \n",
       "\n",
       "   Rotational speed [rpm]  Torque [Nm]  Tool wear [min]  Machine failure  TWF  \\\n",
       "0                    1596         36.1              140                0    0   \n",
       "1                    1759         29.1              200                0    0   \n",
       "2                    1805         26.5               25                0    0   \n",
       "3                    1524         44.3              197                0    0   \n",
       "4                    1641         35.4               34                0    0   \n",
       "\n",
       "   HDF  PWF  OSF  RNF  \n",
       "0    0    0    0    0  \n",
       "1    0    0    0    0  \n",
       "2    0    0    0    0  \n",
       "3    0    0    0    0  \n",
       "4    0    0    0    0  "
      ]
     },
     "execution_count": 3,
     "metadata": {},
     "output_type": "execute_result"
    }
   ],
   "source": [
    "dataset.head(5)"
   ]
  },
  {
   "cell_type": "code",
   "execution_count": 4,
   "id": "84aaf38d",
   "metadata": {
    "execution": {
     "iopub.execute_input": "2023-06-21T07:32:26.420121Z",
     "iopub.status.busy": "2023-06-21T07:32:26.419739Z",
     "iopub.status.idle": "2023-06-21T07:32:26.427424Z",
     "shell.execute_reply": "2023-06-21T07:32:26.426236Z"
    },
    "id": "_MGTJl9qDr7W",
    "outputId": "b6aac4d6-3aaf-436f-cf1e-05d88908e2ab",
    "papermill": {
     "duration": 0.019456,
     "end_time": "2023-06-21T07:32:26.430252",
     "exception": false,
     "start_time": "2023-06-21T07:32:26.410796",
     "status": "completed"
    },
    "tags": []
   },
   "outputs": [
    {
     "data": {
      "text/plain": [
       "Index(['id', 'Product ID', 'Type', 'Air temperature [K]',\n",
       "       'Process temperature [K]', 'Rotational speed [rpm]', 'Torque [Nm]',\n",
       "       'Tool wear [min]', 'Machine failure', 'TWF', 'HDF', 'PWF', 'OSF',\n",
       "       'RNF'],\n",
       "      dtype='object')"
      ]
     },
     "execution_count": 4,
     "metadata": {},
     "output_type": "execute_result"
    }
   ],
   "source": [
    "dataset.columns"
   ]
  },
  {
   "cell_type": "code",
   "execution_count": 5,
   "id": "f2f881d3",
   "metadata": {
    "execution": {
     "iopub.execute_input": "2023-06-21T07:32:26.448115Z",
     "iopub.status.busy": "2023-06-21T07:32:26.447745Z",
     "iopub.status.idle": "2023-06-21T07:32:26.466250Z",
     "shell.execute_reply": "2023-06-21T07:32:26.465031Z"
    },
    "id": "Je79q8VHDr4e",
    "papermill": {
     "duration": 0.030505,
     "end_time": "2023-06-21T07:32:26.468829",
     "exception": false,
     "start_time": "2023-06-21T07:32:26.438324",
     "status": "completed"
    },
    "tags": []
   },
   "outputs": [],
   "source": [
    "dataset = dataset.reindex(columns=['id', 'Product ID', 'Type', 'Air temperature [K]',\n",
    "       'Process temperature [K]', 'Rotational speed [rpm]', 'Torque [Nm]',\n",
    "       'Tool wear [min]', 'TWF', 'HDF', 'PWF', 'OSF',\n",
    "       'RNF', 'Machine failure'])"
   ]
  },
  {
   "cell_type": "code",
   "execution_count": 6,
   "id": "5439ad21",
   "metadata": {
    "execution": {
     "iopub.execute_input": "2023-06-21T07:32:26.486288Z",
     "iopub.status.busy": "2023-06-21T07:32:26.485926Z",
     "iopub.status.idle": "2023-06-21T07:32:26.511643Z",
     "shell.execute_reply": "2023-06-21T07:32:26.510498Z"
    },
    "id": "Z_aY_oJWD8EH",
    "outputId": "19d7baab-6c99-48cc-f428-77f723eab05b",
    "papermill": {
     "duration": 0.037639,
     "end_time": "2023-06-21T07:32:26.514326",
     "exception": false,
     "start_time": "2023-06-21T07:32:26.476687",
     "status": "completed"
    },
    "tags": []
   },
   "outputs": [
    {
     "data": {
      "text/html": [
       "<div>\n",
       "<style scoped>\n",
       "    .dataframe tbody tr th:only-of-type {\n",
       "        vertical-align: middle;\n",
       "    }\n",
       "\n",
       "    .dataframe tbody tr th {\n",
       "        vertical-align: top;\n",
       "    }\n",
       "\n",
       "    .dataframe thead th {\n",
       "        text-align: right;\n",
       "    }\n",
       "</style>\n",
       "<table border=\"1\" class=\"dataframe\">\n",
       "  <thead>\n",
       "    <tr style=\"text-align: right;\">\n",
       "      <th></th>\n",
       "      <th>id</th>\n",
       "      <th>Product ID</th>\n",
       "      <th>Type</th>\n",
       "      <th>Air temperature [K]</th>\n",
       "      <th>Process temperature [K]</th>\n",
       "      <th>Rotational speed [rpm]</th>\n",
       "      <th>Torque [Nm]</th>\n",
       "      <th>Tool wear [min]</th>\n",
       "      <th>TWF</th>\n",
       "      <th>HDF</th>\n",
       "      <th>PWF</th>\n",
       "      <th>OSF</th>\n",
       "      <th>RNF</th>\n",
       "      <th>Machine failure</th>\n",
       "    </tr>\n",
       "  </thead>\n",
       "  <tbody>\n",
       "    <tr>\n",
       "      <th>0</th>\n",
       "      <td>0</td>\n",
       "      <td>L50096</td>\n",
       "      <td>L</td>\n",
       "      <td>300.6</td>\n",
       "      <td>309.6</td>\n",
       "      <td>1596</td>\n",
       "      <td>36.1</td>\n",
       "      <td>140</td>\n",
       "      <td>0</td>\n",
       "      <td>0</td>\n",
       "      <td>0</td>\n",
       "      <td>0</td>\n",
       "      <td>0</td>\n",
       "      <td>0</td>\n",
       "    </tr>\n",
       "    <tr>\n",
       "      <th>1</th>\n",
       "      <td>1</td>\n",
       "      <td>M20343</td>\n",
       "      <td>M</td>\n",
       "      <td>302.6</td>\n",
       "      <td>312.1</td>\n",
       "      <td>1759</td>\n",
       "      <td>29.1</td>\n",
       "      <td>200</td>\n",
       "      <td>0</td>\n",
       "      <td>0</td>\n",
       "      <td>0</td>\n",
       "      <td>0</td>\n",
       "      <td>0</td>\n",
       "      <td>0</td>\n",
       "    </tr>\n",
       "    <tr>\n",
       "      <th>2</th>\n",
       "      <td>2</td>\n",
       "      <td>L49454</td>\n",
       "      <td>L</td>\n",
       "      <td>299.3</td>\n",
       "      <td>308.5</td>\n",
       "      <td>1805</td>\n",
       "      <td>26.5</td>\n",
       "      <td>25</td>\n",
       "      <td>0</td>\n",
       "      <td>0</td>\n",
       "      <td>0</td>\n",
       "      <td>0</td>\n",
       "      <td>0</td>\n",
       "      <td>0</td>\n",
       "    </tr>\n",
       "    <tr>\n",
       "      <th>3</th>\n",
       "      <td>3</td>\n",
       "      <td>L53355</td>\n",
       "      <td>L</td>\n",
       "      <td>301.0</td>\n",
       "      <td>310.9</td>\n",
       "      <td>1524</td>\n",
       "      <td>44.3</td>\n",
       "      <td>197</td>\n",
       "      <td>0</td>\n",
       "      <td>0</td>\n",
       "      <td>0</td>\n",
       "      <td>0</td>\n",
       "      <td>0</td>\n",
       "      <td>0</td>\n",
       "    </tr>\n",
       "    <tr>\n",
       "      <th>4</th>\n",
       "      <td>4</td>\n",
       "      <td>M24050</td>\n",
       "      <td>M</td>\n",
       "      <td>298.0</td>\n",
       "      <td>309.0</td>\n",
       "      <td>1641</td>\n",
       "      <td>35.4</td>\n",
       "      <td>34</td>\n",
       "      <td>0</td>\n",
       "      <td>0</td>\n",
       "      <td>0</td>\n",
       "      <td>0</td>\n",
       "      <td>0</td>\n",
       "      <td>0</td>\n",
       "    </tr>\n",
       "    <tr>\n",
       "      <th>...</th>\n",
       "      <td>...</td>\n",
       "      <td>...</td>\n",
       "      <td>...</td>\n",
       "      <td>...</td>\n",
       "      <td>...</td>\n",
       "      <td>...</td>\n",
       "      <td>...</td>\n",
       "      <td>...</td>\n",
       "      <td>...</td>\n",
       "      <td>...</td>\n",
       "      <td>...</td>\n",
       "      <td>...</td>\n",
       "      <td>...</td>\n",
       "      <td>...</td>\n",
       "    </tr>\n",
       "    <tr>\n",
       "      <th>136424</th>\n",
       "      <td>136424</td>\n",
       "      <td>M22284</td>\n",
       "      <td>M</td>\n",
       "      <td>300.1</td>\n",
       "      <td>311.4</td>\n",
       "      <td>1530</td>\n",
       "      <td>37.5</td>\n",
       "      <td>210</td>\n",
       "      <td>0</td>\n",
       "      <td>0</td>\n",
       "      <td>0</td>\n",
       "      <td>0</td>\n",
       "      <td>0</td>\n",
       "      <td>0</td>\n",
       "    </tr>\n",
       "    <tr>\n",
       "      <th>136425</th>\n",
       "      <td>136425</td>\n",
       "      <td>H38017</td>\n",
       "      <td>H</td>\n",
       "      <td>297.5</td>\n",
       "      <td>308.5</td>\n",
       "      <td>1447</td>\n",
       "      <td>49.1</td>\n",
       "      <td>2</td>\n",
       "      <td>0</td>\n",
       "      <td>0</td>\n",
       "      <td>0</td>\n",
       "      <td>0</td>\n",
       "      <td>0</td>\n",
       "      <td>0</td>\n",
       "    </tr>\n",
       "    <tr>\n",
       "      <th>136426</th>\n",
       "      <td>136426</td>\n",
       "      <td>L54690</td>\n",
       "      <td>L</td>\n",
       "      <td>300.5</td>\n",
       "      <td>311.8</td>\n",
       "      <td>1524</td>\n",
       "      <td>38.5</td>\n",
       "      <td>214</td>\n",
       "      <td>0</td>\n",
       "      <td>0</td>\n",
       "      <td>0</td>\n",
       "      <td>0</td>\n",
       "      <td>0</td>\n",
       "      <td>0</td>\n",
       "    </tr>\n",
       "    <tr>\n",
       "      <th>136427</th>\n",
       "      <td>136427</td>\n",
       "      <td>L53876</td>\n",
       "      <td>L</td>\n",
       "      <td>301.7</td>\n",
       "      <td>310.9</td>\n",
       "      <td>1447</td>\n",
       "      <td>46.3</td>\n",
       "      <td>42</td>\n",
       "      <td>0</td>\n",
       "      <td>0</td>\n",
       "      <td>0</td>\n",
       "      <td>0</td>\n",
       "      <td>0</td>\n",
       "      <td>0</td>\n",
       "    </tr>\n",
       "    <tr>\n",
       "      <th>136428</th>\n",
       "      <td>136428</td>\n",
       "      <td>L47937</td>\n",
       "      <td>L</td>\n",
       "      <td>296.9</td>\n",
       "      <td>308.1</td>\n",
       "      <td>1557</td>\n",
       "      <td>39.3</td>\n",
       "      <td>229</td>\n",
       "      <td>0</td>\n",
       "      <td>0</td>\n",
       "      <td>0</td>\n",
       "      <td>0</td>\n",
       "      <td>0</td>\n",
       "      <td>0</td>\n",
       "    </tr>\n",
       "  </tbody>\n",
       "</table>\n",
       "<p>136429 rows × 14 columns</p>\n",
       "</div>"
      ],
      "text/plain": [
       "            id Product ID Type  Air temperature [K]  Process temperature [K]  \\\n",
       "0            0     L50096    L                300.6                    309.6   \n",
       "1            1     M20343    M                302.6                    312.1   \n",
       "2            2     L49454    L                299.3                    308.5   \n",
       "3            3     L53355    L                301.0                    310.9   \n",
       "4            4     M24050    M                298.0                    309.0   \n",
       "...        ...        ...  ...                  ...                      ...   \n",
       "136424  136424     M22284    M                300.1                    311.4   \n",
       "136425  136425     H38017    H                297.5                    308.5   \n",
       "136426  136426     L54690    L                300.5                    311.8   \n",
       "136427  136427     L53876    L                301.7                    310.9   \n",
       "136428  136428     L47937    L                296.9                    308.1   \n",
       "\n",
       "        Rotational speed [rpm]  Torque [Nm]  Tool wear [min]  TWF  HDF  PWF  \\\n",
       "0                         1596         36.1              140    0    0    0   \n",
       "1                         1759         29.1              200    0    0    0   \n",
       "2                         1805         26.5               25    0    0    0   \n",
       "3                         1524         44.3              197    0    0    0   \n",
       "4                         1641         35.4               34    0    0    0   \n",
       "...                        ...          ...              ...  ...  ...  ...   \n",
       "136424                    1530         37.5              210    0    0    0   \n",
       "136425                    1447         49.1                2    0    0    0   \n",
       "136426                    1524         38.5              214    0    0    0   \n",
       "136427                    1447         46.3               42    0    0    0   \n",
       "136428                    1557         39.3              229    0    0    0   \n",
       "\n",
       "        OSF  RNF  Machine failure  \n",
       "0         0    0                0  \n",
       "1         0    0                0  \n",
       "2         0    0                0  \n",
       "3         0    0                0  \n",
       "4         0    0                0  \n",
       "...     ...  ...              ...  \n",
       "136424    0    0                0  \n",
       "136425    0    0                0  \n",
       "136426    0    0                0  \n",
       "136427    0    0                0  \n",
       "136428    0    0                0  \n",
       "\n",
       "[136429 rows x 14 columns]"
      ]
     },
     "execution_count": 6,
     "metadata": {},
     "output_type": "execute_result"
    }
   ],
   "source": [
    "dataset"
   ]
  },
  {
   "cell_type": "code",
   "execution_count": 7,
   "id": "2a8dd5d8",
   "metadata": {
    "execution": {
     "iopub.execute_input": "2023-06-21T07:32:26.534479Z",
     "iopub.status.busy": "2023-06-21T07:32:26.534067Z",
     "iopub.status.idle": "2023-06-21T07:32:26.557932Z",
     "shell.execute_reply": "2023-06-21T07:32:26.556627Z"
    },
    "papermill": {
     "duration": 0.037087,
     "end_time": "2023-06-21T07:32:26.560303",
     "exception": false,
     "start_time": "2023-06-21T07:32:26.523216",
     "status": "completed"
    },
    "tags": []
   },
   "outputs": [
    {
     "data": {
      "text/html": [
       "<div>\n",
       "<style scoped>\n",
       "    .dataframe tbody tr th:only-of-type {\n",
       "        vertical-align: middle;\n",
       "    }\n",
       "\n",
       "    .dataframe tbody tr th {\n",
       "        vertical-align: top;\n",
       "    }\n",
       "\n",
       "    .dataframe thead th {\n",
       "        text-align: right;\n",
       "    }\n",
       "</style>\n",
       "<table border=\"1\" class=\"dataframe\">\n",
       "  <thead>\n",
       "    <tr style=\"text-align: right;\">\n",
       "      <th></th>\n",
       "      <th>id</th>\n",
       "      <th>Product ID</th>\n",
       "      <th>Type</th>\n",
       "      <th>Air temperature [K]</th>\n",
       "      <th>Process temperature [K]</th>\n",
       "      <th>Rotational speed [rpm]</th>\n",
       "      <th>Torque [Nm]</th>\n",
       "      <th>Tool wear [min]</th>\n",
       "      <th>TWF</th>\n",
       "      <th>HDF</th>\n",
       "      <th>PWF</th>\n",
       "      <th>OSF</th>\n",
       "      <th>RNF</th>\n",
       "    </tr>\n",
       "  </thead>\n",
       "  <tbody>\n",
       "    <tr>\n",
       "      <th>0</th>\n",
       "      <td>136429</td>\n",
       "      <td>L50896</td>\n",
       "      <td>L</td>\n",
       "      <td>302.3</td>\n",
       "      <td>311.5</td>\n",
       "      <td>1499</td>\n",
       "      <td>38.0</td>\n",
       "      <td>60</td>\n",
       "      <td>0</td>\n",
       "      <td>0</td>\n",
       "      <td>0</td>\n",
       "      <td>0</td>\n",
       "      <td>0</td>\n",
       "    </tr>\n",
       "    <tr>\n",
       "      <th>1</th>\n",
       "      <td>136430</td>\n",
       "      <td>L53866</td>\n",
       "      <td>L</td>\n",
       "      <td>301.7</td>\n",
       "      <td>311.0</td>\n",
       "      <td>1713</td>\n",
       "      <td>28.8</td>\n",
       "      <td>17</td>\n",
       "      <td>0</td>\n",
       "      <td>0</td>\n",
       "      <td>0</td>\n",
       "      <td>0</td>\n",
       "      <td>0</td>\n",
       "    </tr>\n",
       "    <tr>\n",
       "      <th>2</th>\n",
       "      <td>136431</td>\n",
       "      <td>L50498</td>\n",
       "      <td>L</td>\n",
       "      <td>301.3</td>\n",
       "      <td>310.4</td>\n",
       "      <td>1525</td>\n",
       "      <td>37.7</td>\n",
       "      <td>96</td>\n",
       "      <td>0</td>\n",
       "      <td>0</td>\n",
       "      <td>0</td>\n",
       "      <td>0</td>\n",
       "      <td>0</td>\n",
       "    </tr>\n",
       "    <tr>\n",
       "      <th>3</th>\n",
       "      <td>136432</td>\n",
       "      <td>M21232</td>\n",
       "      <td>M</td>\n",
       "      <td>300.1</td>\n",
       "      <td>309.6</td>\n",
       "      <td>1479</td>\n",
       "      <td>47.6</td>\n",
       "      <td>5</td>\n",
       "      <td>0</td>\n",
       "      <td>0</td>\n",
       "      <td>0</td>\n",
       "      <td>0</td>\n",
       "      <td>0</td>\n",
       "    </tr>\n",
       "    <tr>\n",
       "      <th>4</th>\n",
       "      <td>136433</td>\n",
       "      <td>M19751</td>\n",
       "      <td>M</td>\n",
       "      <td>303.4</td>\n",
       "      <td>312.3</td>\n",
       "      <td>1515</td>\n",
       "      <td>41.3</td>\n",
       "      <td>114</td>\n",
       "      <td>0</td>\n",
       "      <td>0</td>\n",
       "      <td>0</td>\n",
       "      <td>0</td>\n",
       "      <td>0</td>\n",
       "    </tr>\n",
       "    <tr>\n",
       "      <th>...</th>\n",
       "      <td>...</td>\n",
       "      <td>...</td>\n",
       "      <td>...</td>\n",
       "      <td>...</td>\n",
       "      <td>...</td>\n",
       "      <td>...</td>\n",
       "      <td>...</td>\n",
       "      <td>...</td>\n",
       "      <td>...</td>\n",
       "      <td>...</td>\n",
       "      <td>...</td>\n",
       "      <td>...</td>\n",
       "      <td>...</td>\n",
       "    </tr>\n",
       "    <tr>\n",
       "      <th>90949</th>\n",
       "      <td>227378</td>\n",
       "      <td>L51130</td>\n",
       "      <td>L</td>\n",
       "      <td>302.3</td>\n",
       "      <td>311.4</td>\n",
       "      <td>1484</td>\n",
       "      <td>40.4</td>\n",
       "      <td>15</td>\n",
       "      <td>0</td>\n",
       "      <td>0</td>\n",
       "      <td>0</td>\n",
       "      <td>0</td>\n",
       "      <td>0</td>\n",
       "    </tr>\n",
       "    <tr>\n",
       "      <th>90950</th>\n",
       "      <td>227379</td>\n",
       "      <td>L47783</td>\n",
       "      <td>L</td>\n",
       "      <td>297.9</td>\n",
       "      <td>309.8</td>\n",
       "      <td>1542</td>\n",
       "      <td>33.8</td>\n",
       "      <td>31</td>\n",
       "      <td>0</td>\n",
       "      <td>0</td>\n",
       "      <td>0</td>\n",
       "      <td>0</td>\n",
       "      <td>0</td>\n",
       "    </tr>\n",
       "    <tr>\n",
       "      <th>90951</th>\n",
       "      <td>227380</td>\n",
       "      <td>L48097</td>\n",
       "      <td>L</td>\n",
       "      <td>295.6</td>\n",
       "      <td>306.2</td>\n",
       "      <td>1501</td>\n",
       "      <td>41.4</td>\n",
       "      <td>187</td>\n",
       "      <td>0</td>\n",
       "      <td>0</td>\n",
       "      <td>0</td>\n",
       "      <td>0</td>\n",
       "      <td>0</td>\n",
       "    </tr>\n",
       "    <tr>\n",
       "      <th>90952</th>\n",
       "      <td>227381</td>\n",
       "      <td>L48969</td>\n",
       "      <td>L</td>\n",
       "      <td>298.1</td>\n",
       "      <td>307.8</td>\n",
       "      <td>1534</td>\n",
       "      <td>40.3</td>\n",
       "      <td>69</td>\n",
       "      <td>0</td>\n",
       "      <td>0</td>\n",
       "      <td>0</td>\n",
       "      <td>0</td>\n",
       "      <td>0</td>\n",
       "    </tr>\n",
       "    <tr>\n",
       "      <th>90953</th>\n",
       "      <td>227382</td>\n",
       "      <td>L52525</td>\n",
       "      <td>L</td>\n",
       "      <td>303.5</td>\n",
       "      <td>312.8</td>\n",
       "      <td>1534</td>\n",
       "      <td>36.1</td>\n",
       "      <td>92</td>\n",
       "      <td>0</td>\n",
       "      <td>0</td>\n",
       "      <td>0</td>\n",
       "      <td>0</td>\n",
       "      <td>0</td>\n",
       "    </tr>\n",
       "  </tbody>\n",
       "</table>\n",
       "<p>90954 rows × 13 columns</p>\n",
       "</div>"
      ],
      "text/plain": [
       "           id Product ID Type  Air temperature [K]  Process temperature [K]  \\\n",
       "0      136429     L50896    L                302.3                    311.5   \n",
       "1      136430     L53866    L                301.7                    311.0   \n",
       "2      136431     L50498    L                301.3                    310.4   \n",
       "3      136432     M21232    M                300.1                    309.6   \n",
       "4      136433     M19751    M                303.4                    312.3   \n",
       "...       ...        ...  ...                  ...                      ...   \n",
       "90949  227378     L51130    L                302.3                    311.4   \n",
       "90950  227379     L47783    L                297.9                    309.8   \n",
       "90951  227380     L48097    L                295.6                    306.2   \n",
       "90952  227381     L48969    L                298.1                    307.8   \n",
       "90953  227382     L52525    L                303.5                    312.8   \n",
       "\n",
       "       Rotational speed [rpm]  Torque [Nm]  Tool wear [min]  TWF  HDF  PWF  \\\n",
       "0                        1499         38.0               60    0    0    0   \n",
       "1                        1713         28.8               17    0    0    0   \n",
       "2                        1525         37.7               96    0    0    0   \n",
       "3                        1479         47.6                5    0    0    0   \n",
       "4                        1515         41.3              114    0    0    0   \n",
       "...                       ...          ...              ...  ...  ...  ...   \n",
       "90949                    1484         40.4               15    0    0    0   \n",
       "90950                    1542         33.8               31    0    0    0   \n",
       "90951                    1501         41.4              187    0    0    0   \n",
       "90952                    1534         40.3               69    0    0    0   \n",
       "90953                    1534         36.1               92    0    0    0   \n",
       "\n",
       "       OSF  RNF  \n",
       "0        0    0  \n",
       "1        0    0  \n",
       "2        0    0  \n",
       "3        0    0  \n",
       "4        0    0  \n",
       "...    ...  ...  \n",
       "90949    0    0  \n",
       "90950    0    0  \n",
       "90951    0    0  \n",
       "90952    0    0  \n",
       "90953    0    0  \n",
       "\n",
       "[90954 rows x 13 columns]"
      ]
     },
     "execution_count": 7,
     "metadata": {},
     "output_type": "execute_result"
    }
   ],
   "source": [
    "test"
   ]
  },
  {
   "cell_type": "code",
   "execution_count": 8,
   "id": "a4d3a456",
   "metadata": {
    "execution": {
     "iopub.execute_input": "2023-06-21T07:32:26.580099Z",
     "iopub.status.busy": "2023-06-21T07:32:26.579260Z",
     "iopub.status.idle": "2023-06-21T07:32:27.401033Z",
     "shell.execute_reply": "2023-06-21T07:32:27.399893Z"
    },
    "id": "JKmLCeRuFwPY",
    "outputId": "6843f3b9-4e7c-4aeb-dea1-37f3ad5c6b1b",
    "papermill": {
     "duration": 0.834255,
     "end_time": "2023-06-21T07:32:27.403309",
     "exception": false,
     "start_time": "2023-06-21T07:32:26.569054",
     "status": "completed"
    },
    "tags": []
   },
   "outputs": [
    {
     "name": "stderr",
     "output_type": "stream",
     "text": [
      "/tmp/ipykernel_20/2996877787.py:8: FutureWarning: The default value of numeric_only in DataFrame.corr is deprecated. In a future version, it will default to False. Select only valid columns or specify the value of numeric_only to silence this warning.\n",
      "  corr_matrix = dataset.corr()\n"
     ]
    },
    {
     "data": {
      "image/png": "[encoded data removed]",
      "text/plain": [
       "<Figure size 1000x800 with 2 Axes>"
      ]
     },
     "metadata": {},
     "output_type": "display_data"
    }
   ],
   "source": [
    "import matplotlib.pyplot as plt\n",
    "\n",
    "# Load your data into a pandas DataFrame (assuming the data is already in a DataFrame)\n",
    "# For demonstration purposes, let's assume the DataFrame is named 'data'\n",
    "# Replace 'data' with your actual DataFrame name\n",
    "\n",
    "# Calculate the correlation matrix\n",
    "corr_matrix = dataset.corr()\n",
    "\n",
    "# Set up the matplotlib figure\n",
    "fig, ax = plt.subplots(figsize=(10, 8))\n",
    "\n",
    "# Create the correlation heatmap using seaborn\n",
    "sns.heatmap(corr_matrix, annot=True, fmt=\".2f\", cmap='coolwarm', square=True, ax=ax)\n",
    "\n",
    "# Add a title\n",
    "plt.title('Correlation Heatmap')\n",
    "\n",
    "# Show the plot\n",
    "plt.show()\n"
   ]
  },
  {
   "cell_type": "code",
   "execution_count": 9,
   "id": "42ebcac3",
   "metadata": {
    "execution": {
     "iopub.execute_input": "2023-06-21T07:32:27.426625Z",
     "iopub.status.busy": "2023-06-21T07:32:27.426050Z",
     "iopub.status.idle": "2023-06-21T07:32:27.487855Z",
     "shell.execute_reply": "2023-06-21T07:32:27.486795Z"
    },
    "id": "Q9VqfdzjH64l",
    "papermill": {
     "duration": 0.076556,
     "end_time": "2023-06-21T07:32:27.490550",
     "exception": false,
     "start_time": "2023-06-21T07:32:27.413994",
     "status": "completed"
    },
    "tags": []
   },
   "outputs": [],
   "source": [
    "dataset.drop('Product ID', axis=1, inplace=True)\n",
    "test.drop('Product ID', axis=1, inplace=True)\n",
    "dataset.drop('id', axis=1, inplace=True)\n",
    "dataset.drop('Type', axis=1, inplace=True)\n",
    "test.drop('Type', axis=1, inplace=True)\n",
    "dataset.drop('Air temperature [K]', axis=1, inplace=True)\n",
    "test.drop('Air temperature [K]', axis=1, inplace=True)\n",
    "dataset.drop('Process temperature [K]', axis=1, inplace=True)\n",
    "test.drop('Process temperature [K]', axis=1, inplace=True)\n",
    "dataset.drop('Rotational speed [rpm]', axis=1, inplace=True)\n",
    "test.drop('Rotational speed [rpm]', axis=1, inplace=True)\n",
    "dataset.drop('Tool wear [min]', axis=1, inplace=True)\n",
    "test.drop('Tool wear [min]', axis=1, inplace=True)\n",
    "dataset.drop('RNF', axis=1, inplace=True)\n",
    "test.drop('RNF', axis=1, inplace=True)"
   ]
  },
  {
   "cell_type": "code",
   "execution_count": 10,
   "id": "178bc2bb",
   "metadata": {
    "execution": {
     "iopub.execute_input": "2023-06-21T07:32:27.513120Z",
     "iopub.status.busy": "2023-06-21T07:32:27.512743Z",
     "iopub.status.idle": "2023-06-21T07:32:27.524725Z",
     "shell.execute_reply": "2023-06-21T07:32:27.523556Z"
    },
    "id": "f2-4XfyDMk-B",
    "outputId": "0f359d6a-85ba-4097-f768-4cdcd791843c",
    "papermill": {
     "duration": 0.025788,
     "end_time": "2023-06-21T07:32:27.526990",
     "exception": false,
     "start_time": "2023-06-21T07:32:27.501202",
     "status": "completed"
    },
    "tags": []
   },
   "outputs": [
    {
     "data": {
      "text/html": [
       "<div>\n",
       "<style scoped>\n",
       "    .dataframe tbody tr th:only-of-type {\n",
       "        vertical-align: middle;\n",
       "    }\n",
       "\n",
       "    .dataframe tbody tr th {\n",
       "        vertical-align: top;\n",
       "    }\n",
       "\n",
       "    .dataframe thead th {\n",
       "        text-align: right;\n",
       "    }\n",
       "</style>\n",
       "<table border=\"1\" class=\"dataframe\">\n",
       "  <thead>\n",
       "    <tr style=\"text-align: right;\">\n",
       "      <th></th>\n",
       "      <th>Torque [Nm]</th>\n",
       "      <th>TWF</th>\n",
       "      <th>HDF</th>\n",
       "      <th>PWF</th>\n",
       "      <th>OSF</th>\n",
       "      <th>Machine failure</th>\n",
       "    </tr>\n",
       "  </thead>\n",
       "  <tbody>\n",
       "    <tr>\n",
       "      <th>0</th>\n",
       "      <td>36.1</td>\n",
       "      <td>0</td>\n",
       "      <td>0</td>\n",
       "      <td>0</td>\n",
       "      <td>0</td>\n",
       "      <td>0</td>\n",
       "    </tr>\n",
       "    <tr>\n",
       "      <th>1</th>\n",
       "      <td>29.1</td>\n",
       "      <td>0</td>\n",
       "      <td>0</td>\n",
       "      <td>0</td>\n",
       "      <td>0</td>\n",
       "      <td>0</td>\n",
       "    </tr>\n",
       "    <tr>\n",
       "      <th>2</th>\n",
       "      <td>26.5</td>\n",
       "      <td>0</td>\n",
       "      <td>0</td>\n",
       "      <td>0</td>\n",
       "      <td>0</td>\n",
       "      <td>0</td>\n",
       "    </tr>\n",
       "    <tr>\n",
       "      <th>3</th>\n",
       "      <td>44.3</td>\n",
       "      <td>0</td>\n",
       "      <td>0</td>\n",
       "      <td>0</td>\n",
       "      <td>0</td>\n",
       "      <td>0</td>\n",
       "    </tr>\n",
       "    <tr>\n",
       "      <th>4</th>\n",
       "      <td>35.4</td>\n",
       "      <td>0</td>\n",
       "      <td>0</td>\n",
       "      <td>0</td>\n",
       "      <td>0</td>\n",
       "      <td>0</td>\n",
       "    </tr>\n",
       "  </tbody>\n",
       "</table>\n",
       "</div>"
      ],
      "text/plain": [
       "   Torque [Nm]  TWF  HDF  PWF  OSF  Machine failure\n",
       "0         36.1    0    0    0    0                0\n",
       "1         29.1    0    0    0    0                0\n",
       "2         26.5    0    0    0    0                0\n",
       "3         44.3    0    0    0    0                0\n",
       "4         35.4    0    0    0    0                0"
      ]
     },
     "execution_count": 10,
     "metadata": {},
     "output_type": "execute_result"
    }
   ],
   "source": [
    "dataset.head(5)"
   ]
  },
  {
   "cell_type": "code",
   "execution_count": 11,
   "id": "9d499f1c",
   "metadata": {
    "execution": {
     "iopub.execute_input": "2023-06-21T07:32:27.549774Z",
     "iopub.status.busy": "2023-06-21T07:32:27.549415Z",
     "iopub.status.idle": "2023-06-21T07:32:27.560776Z",
     "shell.execute_reply": "2023-06-21T07:32:27.559715Z"
    },
    "papermill": {
     "duration": 0.025343,
     "end_time": "2023-06-21T07:32:27.562953",
     "exception": false,
     "start_time": "2023-06-21T07:32:27.537610",
     "status": "completed"
    },
    "tags": []
   },
   "outputs": [
    {
     "data": {
      "text/html": [
       "<div>\n",
       "<style scoped>\n",
       "    .dataframe tbody tr th:only-of-type {\n",
       "        vertical-align: middle;\n",
       "    }\n",
       "\n",
       "    .dataframe tbody tr th {\n",
       "        vertical-align: top;\n",
       "    }\n",
       "\n",
       "    .dataframe thead th {\n",
       "        text-align: right;\n",
       "    }\n",
       "</style>\n",
       "<table border=\"1\" class=\"dataframe\">\n",
       "  <thead>\n",
       "    <tr style=\"text-align: right;\">\n",
       "      <th></th>\n",
       "      <th>id</th>\n",
       "      <th>Torque [Nm]</th>\n",
       "      <th>TWF</th>\n",
       "      <th>HDF</th>\n",
       "      <th>PWF</th>\n",
       "      <th>OSF</th>\n",
       "    </tr>\n",
       "  </thead>\n",
       "  <tbody>\n",
       "    <tr>\n",
       "      <th>0</th>\n",
       "      <td>136429</td>\n",
       "      <td>38.0</td>\n",
       "      <td>0</td>\n",
       "      <td>0</td>\n",
       "      <td>0</td>\n",
       "      <td>0</td>\n",
       "    </tr>\n",
       "    <tr>\n",
       "      <th>1</th>\n",
       "      <td>136430</td>\n",
       "      <td>28.8</td>\n",
       "      <td>0</td>\n",
       "      <td>0</td>\n",
       "      <td>0</td>\n",
       "      <td>0</td>\n",
       "    </tr>\n",
       "    <tr>\n",
       "      <th>2</th>\n",
       "      <td>136431</td>\n",
       "      <td>37.7</td>\n",
       "      <td>0</td>\n",
       "      <td>0</td>\n",
       "      <td>0</td>\n",
       "      <td>0</td>\n",
       "    </tr>\n",
       "    <tr>\n",
       "      <th>3</th>\n",
       "      <td>136432</td>\n",
       "      <td>47.6</td>\n",
       "      <td>0</td>\n",
       "      <td>0</td>\n",
       "      <td>0</td>\n",
       "      <td>0</td>\n",
       "    </tr>\n",
       "    <tr>\n",
       "      <th>4</th>\n",
       "      <td>136433</td>\n",
       "      <td>41.3</td>\n",
       "      <td>0</td>\n",
       "      <td>0</td>\n",
       "      <td>0</td>\n",
       "      <td>0</td>\n",
       "    </tr>\n",
       "  </tbody>\n",
       "</table>\n",
       "</div>"
      ],
      "text/plain": [
       "       id  Torque [Nm]  TWF  HDF  PWF  OSF\n",
       "0  136429         38.0    0    0    0    0\n",
       "1  136430         28.8    0    0    0    0\n",
       "2  136431         37.7    0    0    0    0\n",
       "3  136432         47.6    0    0    0    0\n",
       "4  136433         41.3    0    0    0    0"
      ]
     },
     "execution_count": 11,
     "metadata": {},
     "output_type": "execute_result"
    }
   ],
   "source": [
    "test.head(5)"
   ]
  },
  {
   "cell_type": "code",
   "execution_count": 12,
   "id": "fd64665f",
   "metadata": {
    "execution": {
     "iopub.execute_input": "2023-06-21T07:32:27.586441Z",
     "iopub.status.busy": "2023-06-21T07:32:27.586071Z",
     "iopub.status.idle": "2023-06-21T07:32:27.593145Z",
     "shell.execute_reply": "2023-06-21T07:32:27.592108Z"
    },
    "id": "I8zTjN4xMTWO",
    "papermill": {
     "duration": 0.022233,
     "end_time": "2023-06-21T07:32:27.595968",
     "exception": false,
     "start_time": "2023-06-21T07:32:27.573735",
     "status": "completed"
    },
    "tags": []
   },
   "outputs": [
    {
     "data": {
      "text/plain": [
       "\"from sklearn.preprocessing import LabelEncoder\\nle = LabelEncoder()\\ndataset['Type']= le.fit_transform(dataset['Type'])\\ntest['Type']= le.fit_transform(test['Type'])\""
      ]
     },
     "execution_count": 12,
     "metadata": {},
     "output_type": "execute_result"
    }
   ],
   "source": [
    "'''from sklearn.preprocessing import LabelEncoder\n",
    "le = LabelEncoder()\n",
    "dataset['Type']= le.fit_transform(dataset['Type'])\n",
    "test['Type']= le.fit_transform(test['Type'])'''"
   ]
  },
  {
   "cell_type": "code",
   "execution_count": 13,
   "id": "49135f82",
   "metadata": {
    "execution": {
     "iopub.execute_input": "2023-06-21T07:32:27.620222Z",
     "iopub.status.busy": "2023-06-21T07:32:27.619841Z",
     "iopub.status.idle": "2023-06-21T07:32:27.634905Z",
     "shell.execute_reply": "2023-06-21T07:32:27.634152Z"
    },
    "papermill": {
     "duration": 0.029445,
     "end_time": "2023-06-21T07:32:27.636923",
     "exception": false,
     "start_time": "2023-06-21T07:32:27.607478",
     "status": "completed"
    },
    "tags": []
   },
   "outputs": [
    {
     "data": {
      "text/html": [
       "<div>\n",
       "<style scoped>\n",
       "    .dataframe tbody tr th:only-of-type {\n",
       "        vertical-align: middle;\n",
       "    }\n",
       "\n",
       "    .dataframe tbody tr th {\n",
       "        vertical-align: top;\n",
       "    }\n",
       "\n",
       "    .dataframe thead th {\n",
       "        text-align: right;\n",
       "    }\n",
       "</style>\n",
       "<table border=\"1\" class=\"dataframe\">\n",
       "  <thead>\n",
       "    <tr style=\"text-align: right;\">\n",
       "      <th></th>\n",
       "      <th>id</th>\n",
       "      <th>Torque [Nm]</th>\n",
       "      <th>TWF</th>\n",
       "      <th>HDF</th>\n",
       "      <th>PWF</th>\n",
       "      <th>OSF</th>\n",
       "    </tr>\n",
       "  </thead>\n",
       "  <tbody>\n",
       "    <tr>\n",
       "      <th>0</th>\n",
       "      <td>136429</td>\n",
       "      <td>38.0</td>\n",
       "      <td>0</td>\n",
       "      <td>0</td>\n",
       "      <td>0</td>\n",
       "      <td>0</td>\n",
       "    </tr>\n",
       "    <tr>\n",
       "      <th>1</th>\n",
       "      <td>136430</td>\n",
       "      <td>28.8</td>\n",
       "      <td>0</td>\n",
       "      <td>0</td>\n",
       "      <td>0</td>\n",
       "      <td>0</td>\n",
       "    </tr>\n",
       "    <tr>\n",
       "      <th>2</th>\n",
       "      <td>136431</td>\n",
       "      <td>37.7</td>\n",
       "      <td>0</td>\n",
       "      <td>0</td>\n",
       "      <td>0</td>\n",
       "      <td>0</td>\n",
       "    </tr>\n",
       "    <tr>\n",
       "      <th>3</th>\n",
       "      <td>136432</td>\n",
       "      <td>47.6</td>\n",
       "      <td>0</td>\n",
       "      <td>0</td>\n",
       "      <td>0</td>\n",
       "      <td>0</td>\n",
       "    </tr>\n",
       "    <tr>\n",
       "      <th>4</th>\n",
       "      <td>136433</td>\n",
       "      <td>41.3</td>\n",
       "      <td>0</td>\n",
       "      <td>0</td>\n",
       "      <td>0</td>\n",
       "      <td>0</td>\n",
       "    </tr>\n",
       "    <tr>\n",
       "      <th>...</th>\n",
       "      <td>...</td>\n",
       "      <td>...</td>\n",
       "      <td>...</td>\n",
       "      <td>...</td>\n",
       "      <td>...</td>\n",
       "      <td>...</td>\n",
       "    </tr>\n",
       "    <tr>\n",
       "      <th>90949</th>\n",
       "      <td>227378</td>\n",
       "      <td>40.4</td>\n",
       "      <td>0</td>\n",
       "      <td>0</td>\n",
       "      <td>0</td>\n",
       "      <td>0</td>\n",
       "    </tr>\n",
       "    <tr>\n",
       "      <th>90950</th>\n",
       "      <td>227379</td>\n",
       "      <td>33.8</td>\n",
       "      <td>0</td>\n",
       "      <td>0</td>\n",
       "      <td>0</td>\n",
       "      <td>0</td>\n",
       "    </tr>\n",
       "    <tr>\n",
       "      <th>90951</th>\n",
       "      <td>227380</td>\n",
       "      <td>41.4</td>\n",
       "      <td>0</td>\n",
       "      <td>0</td>\n",
       "      <td>0</td>\n",
       "      <td>0</td>\n",
       "    </tr>\n",
       "    <tr>\n",
       "      <th>90952</th>\n",
       "      <td>227381</td>\n",
       "      <td>40.3</td>\n",
       "      <td>0</td>\n",
       "      <td>0</td>\n",
       "      <td>0</td>\n",
       "      <td>0</td>\n",
       "    </tr>\n",
       "    <tr>\n",
       "      <th>90953</th>\n",
       "      <td>227382</td>\n",
       "      <td>36.1</td>\n",
       "      <td>0</td>\n",
       "      <td>0</td>\n",
       "      <td>0</td>\n",
       "      <td>0</td>\n",
       "    </tr>\n",
       "  </tbody>\n",
       "</table>\n",
       "<p>90954 rows × 6 columns</p>\n",
       "</div>"
      ],
      "text/plain": [
       "           id  Torque [Nm]  TWF  HDF  PWF  OSF\n",
       "0      136429         38.0    0    0    0    0\n",
       "1      136430         28.8    0    0    0    0\n",
       "2      136431         37.7    0    0    0    0\n",
       "3      136432         47.6    0    0    0    0\n",
       "4      136433         41.3    0    0    0    0\n",
       "...       ...          ...  ...  ...  ...  ...\n",
       "90949  227378         40.4    0    0    0    0\n",
       "90950  227379         33.8    0    0    0    0\n",
       "90951  227380         41.4    0    0    0    0\n",
       "90952  227381         40.3    0    0    0    0\n",
       "90953  227382         36.1    0    0    0    0\n",
       "\n",
       "[90954 rows x 6 columns]"
      ]
     },
     "execution_count": 13,
     "metadata": {},
     "output_type": "execute_result"
    }
   ],
   "source": [
    "test"
   ]
  },
  {
   "cell_type": "code",
   "execution_count": 14,
   "id": "4819d248",
   "metadata": {
    "execution": {
     "iopub.execute_input": "2023-06-21T07:32:27.660974Z",
     "iopub.status.busy": "2023-06-21T07:32:27.660612Z",
     "iopub.status.idle": "2023-06-21T07:32:27.673929Z",
     "shell.execute_reply": "2023-06-21T07:32:27.673064Z"
    },
    "id": "CIYyBBHFIsOf",
    "outputId": "0e590f92-1153-4217-cc38-1252bd72c2ab",
    "papermill": {
     "duration": 0.02805,
     "end_time": "2023-06-21T07:32:27.676135",
     "exception": false,
     "start_time": "2023-06-21T07:32:27.648085",
     "status": "completed"
    },
    "tags": []
   },
   "outputs": [
    {
     "data": {
      "text/html": [
       "<div>\n",
       "<style scoped>\n",
       "    .dataframe tbody tr th:only-of-type {\n",
       "        vertical-align: middle;\n",
       "    }\n",
       "\n",
       "    .dataframe tbody tr th {\n",
       "        vertical-align: top;\n",
       "    }\n",
       "\n",
       "    .dataframe thead th {\n",
       "        text-align: right;\n",
       "    }\n",
       "</style>\n",
       "<table border=\"1\" class=\"dataframe\">\n",
       "  <thead>\n",
       "    <tr style=\"text-align: right;\">\n",
       "      <th></th>\n",
       "      <th>Torque [Nm]</th>\n",
       "      <th>TWF</th>\n",
       "      <th>HDF</th>\n",
       "      <th>PWF</th>\n",
       "      <th>OSF</th>\n",
       "      <th>Machine failure</th>\n",
       "    </tr>\n",
       "  </thead>\n",
       "  <tbody>\n",
       "    <tr>\n",
       "      <th>0</th>\n",
       "      <td>36.1</td>\n",
       "      <td>0</td>\n",
       "      <td>0</td>\n",
       "      <td>0</td>\n",
       "      <td>0</td>\n",
       "      <td>0</td>\n",
       "    </tr>\n",
       "    <tr>\n",
       "      <th>1</th>\n",
       "      <td>29.1</td>\n",
       "      <td>0</td>\n",
       "      <td>0</td>\n",
       "      <td>0</td>\n",
       "      <td>0</td>\n",
       "      <td>0</td>\n",
       "    </tr>\n",
       "    <tr>\n",
       "      <th>2</th>\n",
       "      <td>26.5</td>\n",
       "      <td>0</td>\n",
       "      <td>0</td>\n",
       "      <td>0</td>\n",
       "      <td>0</td>\n",
       "      <td>0</td>\n",
       "    </tr>\n",
       "    <tr>\n",
       "      <th>3</th>\n",
       "      <td>44.3</td>\n",
       "      <td>0</td>\n",
       "      <td>0</td>\n",
       "      <td>0</td>\n",
       "      <td>0</td>\n",
       "      <td>0</td>\n",
       "    </tr>\n",
       "    <tr>\n",
       "      <th>4</th>\n",
       "      <td>35.4</td>\n",
       "      <td>0</td>\n",
       "      <td>0</td>\n",
       "      <td>0</td>\n",
       "      <td>0</td>\n",
       "      <td>0</td>\n",
       "    </tr>\n",
       "    <tr>\n",
       "      <th>...</th>\n",
       "      <td>...</td>\n",
       "      <td>...</td>\n",
       "      <td>...</td>\n",
       "      <td>...</td>\n",
       "      <td>...</td>\n",
       "      <td>...</td>\n",
       "    </tr>\n",
       "    <tr>\n",
       "      <th>136424</th>\n",
       "      <td>37.5</td>\n",
       "      <td>0</td>\n",
       "      <td>0</td>\n",
       "      <td>0</td>\n",
       "      <td>0</td>\n",
       "      <td>0</td>\n",
       "    </tr>\n",
       "    <tr>\n",
       "      <th>136425</th>\n",
       "      <td>49.1</td>\n",
       "      <td>0</td>\n",
       "      <td>0</td>\n",
       "      <td>0</td>\n",
       "      <td>0</td>\n",
       "      <td>0</td>\n",
       "    </tr>\n",
       "    <tr>\n",
       "      <th>136426</th>\n",
       "      <td>38.5</td>\n",
       "      <td>0</td>\n",
       "      <td>0</td>\n",
       "      <td>0</td>\n",
       "      <td>0</td>\n",
       "      <td>0</td>\n",
       "    </tr>\n",
       "    <tr>\n",
       "      <th>136427</th>\n",
       "      <td>46.3</td>\n",
       "      <td>0</td>\n",
       "      <td>0</td>\n",
       "      <td>0</td>\n",
       "      <td>0</td>\n",
       "      <td>0</td>\n",
       "    </tr>\n",
       "    <tr>\n",
       "      <th>136428</th>\n",
       "      <td>39.3</td>\n",
       "      <td>0</td>\n",
       "      <td>0</td>\n",
       "      <td>0</td>\n",
       "      <td>0</td>\n",
       "      <td>0</td>\n",
       "    </tr>\n",
       "  </tbody>\n",
       "</table>\n",
       "<p>136429 rows × 6 columns</p>\n",
       "</div>"
      ],
      "text/plain": [
       "        Torque [Nm]  TWF  HDF  PWF  OSF  Machine failure\n",
       "0              36.1    0    0    0    0                0\n",
       "1              29.1    0    0    0    0                0\n",
       "2              26.5    0    0    0    0                0\n",
       "3              44.3    0    0    0    0                0\n",
       "4              35.4    0    0    0    0                0\n",
       "...             ...  ...  ...  ...  ...              ...\n",
       "136424         37.5    0    0    0    0                0\n",
       "136425         49.1    0    0    0    0                0\n",
       "136426         38.5    0    0    0    0                0\n",
       "136427         46.3    0    0    0    0                0\n",
       "136428         39.3    0    0    0    0                0\n",
       "\n",
       "[136429 rows x 6 columns]"
      ]
     },
     "execution_count": 14,
     "metadata": {},
     "output_type": "execute_result"
    }
   ],
   "source": [
    "dataset"
   ]
  },
  {
   "cell_type": "code",
   "execution_count": 15,
   "id": "a9f05687",
   "metadata": {
    "execution": {
     "iopub.execute_input": "2023-06-21T07:32:27.700530Z",
     "iopub.status.busy": "2023-06-21T07:32:27.700150Z",
     "iopub.status.idle": "2023-06-21T07:32:27.710112Z",
     "shell.execute_reply": "2023-06-21T07:32:27.708962Z"
    },
    "id": "wDGYzTD2DK4z",
    "papermill": {
     "duration": 0.024615,
     "end_time": "2023-06-21T07:32:27.712386",
     "exception": false,
     "start_time": "2023-06-21T07:32:27.687771",
     "status": "completed"
    },
    "tags": []
   },
   "outputs": [],
   "source": [
    "X = dataset.iloc[:, :-1].values\n",
    "y = dataset.iloc[:, -1].values\n",
    "X_test = test.iloc[:, 1:].values"
   ]
  },
  {
   "cell_type": "code",
   "execution_count": 16,
   "id": "06141702",
   "metadata": {
    "execution": {
     "iopub.execute_input": "2023-06-21T07:32:27.737098Z",
     "iopub.status.busy": "2023-06-21T07:32:27.736730Z",
     "iopub.status.idle": "2023-06-21T07:32:28.358439Z",
     "shell.execute_reply": "2023-06-21T07:32:28.357349Z"
    },
    "papermill": {
     "duration": 0.637073,
     "end_time": "2023-06-21T07:32:28.360985",
     "exception": false,
     "start_time": "2023-06-21T07:32:27.723912",
     "status": "completed"
    },
    "tags": []
   },
   "outputs": [],
   "source": [
    "from imblearn.under_sampling import RandomUnderSampler\n",
    "under = RandomUnderSampler(sampling_strategy='majority')\n",
    "X_over, y_over = under.fit_resample(X,y)"
   ]
  },
  {
   "cell_type": "code",
   "execution_count": 17,
   "id": "2e817f09",
   "metadata": {
    "execution": {
     "iopub.execute_input": "2023-06-21T07:32:28.385896Z",
     "iopub.status.busy": "2023-06-21T07:32:28.385518Z",
     "iopub.status.idle": "2023-06-21T07:32:28.392021Z",
     "shell.execute_reply": "2023-06-21T07:32:28.390696Z"
    },
    "id": "P3nS3-6r1i2B",
    "outputId": "1f10d05b-9d9c-4b9b-a5ed-3b6bcf1e1f35",
    "papermill": {
     "duration": 0.021959,
     "end_time": "2023-06-21T07:32:28.394424",
     "exception": false,
     "start_time": "2023-06-21T07:32:28.372465",
     "status": "completed"
    },
    "tags": []
   },
   "outputs": [
    {
     "name": "stdout",
     "output_type": "stream",
     "text": [
      "[[36.6  0.   0.   0.   0. ]\n",
      " [41.2  0.   0.   0.   0. ]\n",
      " [42.6  0.   0.   0.   0. ]\n",
      " ...\n",
      " [49.7  0.   0.   0.   0. ]\n",
      " [62.3  0.   0.   1.   0. ]\n",
      " [49.7  0.   1.   0.   0. ]]\n"
     ]
    }
   ],
   "source": [
    "print(X_over)"
   ]
  },
  {
   "cell_type": "code",
   "execution_count": 18,
   "id": "d45d6e33",
   "metadata": {
    "execution": {
     "iopub.execute_input": "2023-06-21T07:32:28.419447Z",
     "iopub.status.busy": "2023-06-21T07:32:28.419058Z",
     "iopub.status.idle": "2023-06-21T07:32:28.425894Z",
     "shell.execute_reply": "2023-06-21T07:32:28.424739Z"
    },
    "papermill": {
     "duration": 0.021808,
     "end_time": "2023-06-21T07:32:28.428078",
     "exception": false,
     "start_time": "2023-06-21T07:32:28.406270",
     "status": "completed"
    },
    "tags": []
   },
   "outputs": [
    {
     "data": {
      "text/plain": [
       "(4296, 5)"
      ]
     },
     "execution_count": 18,
     "metadata": {},
     "output_type": "execute_result"
    }
   ],
   "source": [
    "X_over.shape"
   ]
  },
  {
   "cell_type": "code",
   "execution_count": 19,
   "id": "8438e6e4",
   "metadata": {
    "execution": {
     "iopub.execute_input": "2023-06-21T07:32:28.454299Z",
     "iopub.status.busy": "2023-06-21T07:32:28.453910Z",
     "iopub.status.idle": "2023-06-21T07:32:28.460078Z",
     "shell.execute_reply": "2023-06-21T07:32:28.458735Z"
    },
    "id": "8dpDLojm1mVG",
    "outputId": "d18a9e56-516b-4306-9dc0-45591778808d",
    "papermill": {
     "duration": 0.022238,
     "end_time": "2023-06-21T07:32:28.462563",
     "exception": false,
     "start_time": "2023-06-21T07:32:28.440325",
     "status": "completed"
    },
    "tags": []
   },
   "outputs": [
    {
     "name": "stdout",
     "output_type": "stream",
     "text": [
      "[0 0 0 ... 1 1 1]\n"
     ]
    }
   ],
   "source": [
    "print(y_over)"
   ]
  },
  {
   "cell_type": "markdown",
   "id": "76f7452e",
   "metadata": {
    "id": "kW3c7UYih0hT",
    "papermill": {
     "duration": 0.011668,
     "end_time": "2023-06-21T07:32:28.486037",
     "exception": false,
     "start_time": "2023-06-21T07:32:28.474369",
     "status": "completed"
    },
    "tags": []
   },
   "source": [
    "## Feature Scaling"
   ]
  },
  {
   "cell_type": "code",
   "execution_count": 20,
   "id": "b8787f67",
   "metadata": {
    "execution": {
     "iopub.execute_input": "2023-06-21T07:32:28.511717Z",
     "iopub.status.busy": "2023-06-21T07:32:28.510539Z",
     "iopub.status.idle": "2023-06-21T07:32:28.519954Z",
     "shell.execute_reply": "2023-06-21T07:32:28.518747Z"
    },
    "id": "9fQlDPKCh8sc",
    "papermill": {
     "duration": 0.024957,
     "end_time": "2023-06-21T07:32:28.522534",
     "exception": false,
     "start_time": "2023-06-21T07:32:28.497577",
     "status": "completed"
    },
    "tags": []
   },
   "outputs": [],
   "source": [
    "from sklearn.preprocessing import StandardScaler\n",
    "sc = StandardScaler()\n",
    "X_train = sc.fit_transform(X_over)\n",
    "X_test = sc.transform(X_test)"
   ]
  },
  {
   "cell_type": "code",
   "execution_count": 21,
   "id": "459d9568",
   "metadata": {
    "execution": {
     "iopub.execute_input": "2023-06-21T07:32:28.548252Z",
     "iopub.status.busy": "2023-06-21T07:32:28.547852Z",
     "iopub.status.idle": "2023-06-21T07:32:28.553585Z",
     "shell.execute_reply": "2023-06-21T07:32:28.552222Z"
    },
    "id": "syrnD1Op2BSR",
    "outputId": "ab3451ee-3124-4503-b1bd-35612750e5e5",
    "papermill": {
     "duration": 0.021206,
     "end_time": "2023-06-21T07:32:28.556136",
     "exception": false,
     "start_time": "2023-06-21T07:32:28.534930",
     "status": "completed"
    },
    "tags": []
   },
   "outputs": [
    {
     "name": "stdout",
     "output_type": "stream",
     "text": [
      "[[-0.71837153 -0.22783743 -0.44045052 -0.28560637 -0.37756217]\n",
      " [-0.33785671 -0.22783743 -0.44045052 -0.28560637 -0.37756217]\n",
      " [-0.22204785 -0.22783743 -0.44045052 -0.28560637 -0.37756217]\n",
      " ...\n",
      " [ 0.3652685  -0.22783743 -0.44045052 -0.28560637 -0.37756217]\n",
      " [ 1.40754823 -0.22783743 -0.44045052  3.5013225  -0.37756217]\n",
      " [ 0.3652685  -0.22783743  2.27040256 -0.28560637 -0.37756217]]\n"
     ]
    }
   ],
   "source": [
    "print(X_train)"
   ]
  },
  {
   "cell_type": "code",
   "execution_count": 22,
   "id": "c405baac",
   "metadata": {
    "execution": {
     "iopub.execute_input": "2023-06-21T07:32:28.580992Z",
     "iopub.status.busy": "2023-06-21T07:32:28.580631Z",
     "iopub.status.idle": "2023-06-21T07:32:28.586675Z",
     "shell.execute_reply": "2023-06-21T07:32:28.585533Z"
    },
    "id": "JUd6iBRp2C3L",
    "outputId": "5c52d3a9-4b8b-4d3d-dcb3-349ee8d621dd",
    "papermill": {
     "duration": 0.021988,
     "end_time": "2023-06-21T07:32:28.589784",
     "exception": false,
     "start_time": "2023-06-21T07:32:28.567796",
     "status": "completed"
    },
    "tags": []
   },
   "outputs": [
    {
     "name": "stdout",
     "output_type": "stream",
     "text": [
      "[[-0.60256267 -0.22783743 -0.44045052 -0.28560637 -0.37756217]\n",
      " [-1.36359232 -0.22783743 -0.44045052 -0.28560637 -0.37756217]\n",
      " [-0.62737886 -0.22783743 -0.44045052 -0.28560637 -0.37756217]\n",
      " ...\n",
      " [-0.32131259 -0.22783743 -0.44045052 -0.28560637 -0.37756217]\n",
      " [-0.41230526 -0.22783743 -0.44045052 -0.28560637 -0.37756217]\n",
      " [-0.75973184 -0.22783743 -0.44045052 -0.28560637 -0.37756217]]\n"
     ]
    }
   ],
   "source": [
    "print(X_test)"
   ]
  },
  {
   "cell_type": "markdown",
   "id": "d733e8da",
   "metadata": {
    "id": "bb6jCOCQiAmP",
    "papermill": {
     "duration": 0.011255,
     "end_time": "2023-06-21T07:32:28.612811",
     "exception": false,
     "start_time": "2023-06-21T07:32:28.601556",
     "status": "completed"
    },
    "tags": []
   },
   "source": [
    "## Training the XGBoost Classification model on the Training set"
   ]
  },
  {
   "cell_type": "code",
   "execution_count": 23,
   "id": "4d6286a2",
   "metadata": {
    "execution": {
     "iopub.execute_input": "2023-06-21T07:32:28.637794Z",
     "iopub.status.busy": "2023-06-21T07:32:28.637411Z",
     "iopub.status.idle": "2023-06-21T07:32:30.100700Z",
     "shell.execute_reply": "2023-06-21T07:32:30.099795Z"
    },
    "papermill": {
     "duration": 1.478327,
     "end_time": "2023-06-21T07:32:30.102785",
     "exception": false,
     "start_time": "2023-06-21T07:32:28.624458",
     "status": "completed"
    },
    "tags": []
   },
   "outputs": [
    {
     "data": {
      "text/html": [
       "<style>#sk-container-id-1 {color: black;background-color: white;}#sk-container-id-1 pre{padding: 0;}#sk-container-id-1 div.sk-toggleable {background-color: white;}#sk-container-id-1 label.sk-toggleable__label {cursor: pointer;display: block;width: 100%;margin-bottom: 0;padding: 0.3em;box-sizing: border-box;text-align: center;}#sk-container-id-1 label.sk-toggleable__label-arrow:before {content: \"▸\";float: left;margin-right: 0.25em;color: #696969;}#sk-container-id-1 label.sk-toggleable__label-arrow:hover:before {color: black;}#sk-container-id-1 div.sk-estimator:hover label.sk-toggleable__label-arrow:before {color: black;}#sk-container-id-1 div.sk-toggleable__content {max-height: 0;max-width: 0;overflow: hidden;text-align: left;background-color: #f0f8ff;}#sk-container-id-1 div.sk-toggleable__content pre {margin: 0.2em;color: black;border-radius: 0.25em;background-color: #f0f8ff;}#sk-container-id-1 input.sk-toggleable__control:checked~div.sk-toggleable__content {max-height: 200px;max-width: 100%;overflow: auto;}#sk-container-id-1 input.sk-toggleable__control:checked~label.sk-toggleable__label-arrow:before {content: \"▾\";}#sk-container-id-1 div.sk-estimator input.sk-toggleable__control:checked~label.sk-toggleable__label {background-color: #d4ebff;}#sk-container-id-1 div.sk-label input.sk-toggleable__control:checked~label.sk-toggleable__label {background-color: #d4ebff;}#sk-container-id-1 input.sk-hidden--visually {border: 0;clip: rect(1px 1px 1px 1px);clip: rect(1px, 1px, 1px, 1px);height: 1px;margin: -1px;overflow: hidden;padding: 0;position: absolute;width: 1px;}#sk-container-id-1 div.sk-estimator {font-family: monospace;background-color: #f0f8ff;border: 1px dotted black;border-radius: 0.25em;box-sizing: border-box;margin-bottom: 0.5em;}#sk-container-id-1 div.sk-estimator:hover {background-color: #d4ebff;}#sk-container-id-1 div.sk-parallel-item::after {content: \"\";width: 100%;border-bottom: 1px solid gray;flex-grow: 1;}#sk-container-id-1 div.sk-label:hover label.sk-toggleable__label {background-color: #d4ebff;}#sk-container-id-1 div.sk-serial::before {content: \"\";position: absolute;border-left: 1px solid gray;box-sizing: border-box;top: 0;bottom: 0;left: 50%;z-index: 0;}#sk-container-id-1 div.sk-serial {display: flex;flex-direction: column;align-items: center;background-color: white;padding-right: 0.2em;padding-left: 0.2em;position: relative;}#sk-container-id-1 div.sk-item {position: relative;z-index: 1;}#sk-container-id-1 div.sk-parallel {display: flex;align-items: stretch;justify-content: center;background-color: white;position: relative;}#sk-container-id-1 div.sk-item::before, #sk-container-id-1 div.sk-parallel-item::before {content: \"\";position: absolute;border-left: 1px solid gray;box-sizing: border-box;top: 0;bottom: 0;left: 50%;z-index: -1;}#sk-container-id-1 div.sk-parallel-item {display: flex;flex-direction: column;z-index: 1;position: relative;background-color: white;}#sk-container-id-1 div.sk-parallel-item:first-child::after {align-self: flex-end;width: 50%;}#sk-container-id-1 div.sk-parallel-item:last-child::after {align-self: flex-start;width: 50%;}#sk-container-id-1 div.sk-parallel-item:only-child::after {width: 0;}#sk-container-id-1 div.sk-dashed-wrapped {border: 1px dashed gray;margin: 0 0.4em 0.5em 0.4em;box-sizing: border-box;padding-bottom: 0.4em;background-color: white;}#sk-container-id-1 div.sk-label label {font-family: monospace;font-weight: bold;display: inline-block;line-height: 1.2em;}#sk-container-id-1 div.sk-label-container {text-align: center;}#sk-container-id-1 div.sk-container {/* jupyter's `normalize.less` sets `[hidden] { display: none; }` but bootstrap.min.css set `[hidden] { display: none !important; }` so we also need the `!important` here to be able to override the default hidden behavior on the sphinx rendered scikit-learn.org. See: https://github.com/scikit-learn/scikit-learn/issues/21755 */display: inline-block !important;position: relative;}#sk-container-id-1 div.sk-text-repr-fallback {display: none;}</style><div id=\"sk-container-id-1\" class=\"sk-top-container\"><div class=\"sk-text-repr-fallback\"><pre>XGBClassifier(base_score=None, booster=None, callbacks=None,\n",
       "              colsample_bylevel=None, colsample_bynode=None,\n",
       "              colsample_bytree=0.8, early_stopping_rounds=None,\n",
       "              enable_categorical=False, eval_metric=None, feature_types=None,\n",
       "              gamma=0.8, gpu_id=None, grow_policy=None, importance_type=None,\n",
       "              interaction_constraints=None, learning_rate=0.0095, max_bin=None,\n",
       "              max_cat_threshold=None, max_cat_to_onehot=None,\n",
       "              max_delta_step=None, max_depth=8, max_leaves=None,\n",
       "              min_child_weight=20, missing=nan, monotone_constraints=None,\n",
       "              n_estimators=975, n_jobs=None, num_parallel_tree=None,\n",
       "              predictor=None, random_state=None, ...)</pre><b>In a Jupyter environment, please rerun this cell to show the HTML representation or trust the notebook. <br />On GitHub, the HTML representation is unable to render, please try loading this page with nbviewer.org.</b></div><div class=\"sk-container\" hidden><div class=\"sk-item\"><div class=\"sk-estimator sk-toggleable\"><input class=\"sk-toggleable__control sk-hidden--visually\" id=\"sk-estimator-id-1\" type=\"checkbox\" checked><label for=\"sk-estimator-id-1\" class=\"sk-toggleable__label sk-toggleable__label-arrow\">XGBClassifier</label><div class=\"sk-toggleable__content\"><pre>XGBClassifier(base_score=None, booster=None, callbacks=None,\n",
       "              colsample_bylevel=None, colsample_bynode=None,\n",
       "              colsample_bytree=0.8, early_stopping_rounds=None,\n",
       "              enable_categorical=False, eval_metric=None, feature_types=None,\n",
       "              gamma=0.8, gpu_id=None, grow_policy=None, importance_type=None,\n",
       "              interaction_constraints=None, learning_rate=0.0095, max_bin=None,\n",
       "              max_cat_threshold=None, max_cat_to_onehot=None,\n",
       "              max_delta_step=None, max_depth=8, max_leaves=None,\n",
       "              min_child_weight=20, missing=nan, monotone_constraints=None,\n",
       "              n_estimators=975, n_jobs=None, num_parallel_tree=None,\n",
       "              predictor=None, random_state=None, ...)</pre></div></div></div></div></div>"
      ],
      "text/plain": [
       "XGBClassifier(base_score=None, booster=None, callbacks=None,\n",
       "              colsample_bylevel=None, colsample_bynode=None,\n",
       "              colsample_bytree=0.8, early_stopping_rounds=None,\n",
       "              enable_categorical=False, eval_metric=None, feature_types=None,\n",
       "              gamma=0.8, gpu_id=None, grow_policy=None, importance_type=None,\n",
       "              interaction_constraints=None, learning_rate=0.0095, max_bin=None,\n",
       "              max_cat_threshold=None, max_cat_to_onehot=None,\n",
       "              max_delta_step=None, max_depth=8, max_leaves=None,\n",
       "              min_child_weight=20, missing=nan, monotone_constraints=None,\n",
       "              n_estimators=975, n_jobs=None, num_parallel_tree=None,\n",
       "              predictor=None, random_state=None, ...)"
      ]
     },
     "execution_count": 23,
     "metadata": {},
     "output_type": "execute_result"
    }
   ],
   "source": [
    "from xgboost import XGBClassifier\n",
    "classifier=XGBClassifier(n_estimators=975,learning_rate=0.0095,colsample_bytree = 0.8,\n",
    "                             max_depth=8,min_child_weight = 20,gamma = 0.8)\n",
    "classifier.fit(X_train,y_over)"
   ]
  },
  {
   "cell_type": "markdown",
   "id": "60ca7a21",
   "metadata": {
    "id": "yyxW5b395mR2",
    "papermill": {
     "duration": 0.012634,
     "end_time": "2023-06-21T07:32:30.128096",
     "exception": false,
     "start_time": "2023-06-21T07:32:30.115462",
     "status": "completed"
    },
    "tags": []
   },
   "source": [
    "## Predicting a new result"
   ]
  },
  {
   "cell_type": "code",
   "execution_count": 24,
   "id": "93ce01d5",
   "metadata": {
    "execution": {
     "iopub.execute_input": "2023-06-21T07:32:30.155165Z",
     "iopub.status.busy": "2023-06-21T07:32:30.154108Z",
     "iopub.status.idle": "2023-06-21T07:32:30.165117Z",
     "shell.execute_reply": "2023-06-21T07:32:30.164237Z"
    },
    "id": "f8YOXsQy58rP",
    "outputId": "ca9df21b-cebb-4ed5-fed6-3d5872493b4e",
    "papermill": {
     "duration": 0.027415,
     "end_time": "2023-06-21T07:32:30.167700",
     "exception": false,
     "start_time": "2023-06-21T07:32:30.140285",
     "status": "completed"
    },
    "tags": []
   },
   "outputs": [
    {
     "name": "stdout",
     "output_type": "stream",
     "text": [
      "[0]\n"
     ]
    }
   ],
   "source": [
    "print(classifier.predict(sc.transform([[28.8,0,0,0,0]])))"
   ]
  },
  {
   "cell_type": "code",
   "execution_count": 25,
   "id": "92003010",
   "metadata": {
    "execution": {
     "iopub.execute_input": "2023-06-21T07:32:30.194012Z",
     "iopub.status.busy": "2023-06-21T07:32:30.193644Z",
     "iopub.status.idle": "2023-06-21T07:32:30.683781Z",
     "shell.execute_reply": "2023-06-21T07:32:30.682891Z"
    },
    "papermill": {
     "duration": 0.506332,
     "end_time": "2023-06-21T07:32:30.686225",
     "exception": false,
     "start_time": "2023-06-21T07:32:30.179893",
     "status": "completed"
    },
    "tags": []
   },
   "outputs": [],
   "source": [
    "y_pred = classifier.predict(X_test)"
   ]
  },
  {
   "cell_type": "code",
   "execution_count": 26,
   "id": "99f1d8a2",
   "metadata": {
    "execution": {
     "iopub.execute_input": "2023-06-21T07:32:30.713224Z",
     "iopub.status.busy": "2023-06-21T07:32:30.712446Z",
     "iopub.status.idle": "2023-06-21T07:32:30.824846Z",
     "shell.execute_reply": "2023-06-21T07:32:30.823590Z"
    },
    "papermill": {
     "duration": 0.128649,
     "end_time": "2023-06-21T07:32:30.827300",
     "exception": false,
     "start_time": "2023-06-21T07:32:30.698651",
     "status": "completed"
    },
    "tags": []
   },
   "outputs": [],
   "source": [
    "submission=pd.DataFrame({\"id\":test.id,\"Machine failure\":y_pred})\n",
    "submission.to_csv('submission.csv', index=False)"
   ]
  },
  {
   "cell_type": "code",
   "execution_count": 27,
   "id": "9dc6ee4e",
   "metadata": {
    "execution": {
     "iopub.execute_input": "2023-06-21T07:32:30.853423Z",
     "iopub.status.busy": "2023-06-21T07:32:30.852999Z",
     "iopub.status.idle": "2023-06-21T07:32:30.862824Z",
     "shell.execute_reply": "2023-06-21T07:32:30.861698Z"
    },
    "papermill": {
     "duration": 0.025699,
     "end_time": "2023-06-21T07:32:30.865331",
     "exception": false,
     "start_time": "2023-06-21T07:32:30.839632",
     "status": "completed"
    },
    "tags": []
   },
   "outputs": [
    {
     "data": {
      "text/html": [
       "<div>\n",
       "<style scoped>\n",
       "    .dataframe tbody tr th:only-of-type {\n",
       "        vertical-align: middle;\n",
       "    }\n",
       "\n",
       "    .dataframe tbody tr th {\n",
       "        vertical-align: top;\n",
       "    }\n",
       "\n",
       "    .dataframe thead th {\n",
       "        text-align: right;\n",
       "    }\n",
       "</style>\n",
       "<table border=\"1\" class=\"dataframe\">\n",
       "  <thead>\n",
       "    <tr style=\"text-align: right;\">\n",
       "      <th></th>\n",
       "      <th>id</th>\n",
       "      <th>Machine failure</th>\n",
       "    </tr>\n",
       "  </thead>\n",
       "  <tbody>\n",
       "    <tr>\n",
       "      <th>0</th>\n",
       "      <td>136429</td>\n",
       "      <td>0</td>\n",
       "    </tr>\n",
       "    <tr>\n",
       "      <th>1</th>\n",
       "      <td>136430</td>\n",
       "      <td>0</td>\n",
       "    </tr>\n",
       "    <tr>\n",
       "      <th>2</th>\n",
       "      <td>136431</td>\n",
       "      <td>0</td>\n",
       "    </tr>\n",
       "    <tr>\n",
       "      <th>3</th>\n",
       "      <td>136432</td>\n",
       "      <td>0</td>\n",
       "    </tr>\n",
       "    <tr>\n",
       "      <th>4</th>\n",
       "      <td>136433</td>\n",
       "      <td>0</td>\n",
       "    </tr>\n",
       "    <tr>\n",
       "      <th>5</th>\n",
       "      <td>136434</td>\n",
       "      <td>0</td>\n",
       "    </tr>\n",
       "    <tr>\n",
       "      <th>6</th>\n",
       "      <td>136435</td>\n",
       "      <td>0</td>\n",
       "    </tr>\n",
       "    <tr>\n",
       "      <th>7</th>\n",
       "      <td>136436</td>\n",
       "      <td>0</td>\n",
       "    </tr>\n",
       "    <tr>\n",
       "      <th>8</th>\n",
       "      <td>136437</td>\n",
       "      <td>0</td>\n",
       "    </tr>\n",
       "    <tr>\n",
       "      <th>9</th>\n",
       "      <td>136438</td>\n",
       "      <td>0</td>\n",
       "    </tr>\n",
       "  </tbody>\n",
       "</table>\n",
       "</div>"
      ],
      "text/plain": [
       "       id  Machine failure\n",
       "0  136429                0\n",
       "1  136430                0\n",
       "2  136431                0\n",
       "3  136432                0\n",
       "4  136433                0\n",
       "5  136434                0\n",
       "6  136435                0\n",
       "7  136436                0\n",
       "8  136437                0\n",
       "9  136438                0"
      ]
     },
     "execution_count": 27,
     "metadata": {},
     "output_type": "execute_result"
    }
   ],
   "source": [
    "submission.head(10)"
   ]
  },
  {
   "cell_type": "code",
   "execution_count": null,
   "id": "dc25ecba",
   "metadata": {
    "papermill": {
     "duration": 0.012521,
     "end_time": "2023-06-21T07:32:30.890283",
     "exception": false,
     "start_time": "2023-06-21T07:32:30.877762",
     "status": "completed"
    },
    "tags": []
   },
   "outputs": [],
   "source": []
  }
 ],
 "metadata": {
  "kernelspec": {
   "display_name": "Python 3",
   "language": "python",
   "name": "python3"
  },
  "language_info": {
   "codemirror_mode": {
    "name": "ipython",
    "version": 3
   },
   "file_extension": ".py",
   "mimetype": "text/x-python",
   "name": "python",
   "nbconvert_exporter": "python",
   "pygments_lexer": "ipython3",
   "version": "3.10.10"
  },
  "papermill": {
   "default_parameters": {},
   "duration": 18.922623,
   "end_time": "2023-06-21T07:32:31.928224",
   "environment_variables": {},
   "exception": null,
   "input_path": "__notebook__.ipynb",
   "output_path": "__notebook__.ipynb",
   "parameters": {},
   "start_time": "2023-06-21T07:32:13.005601",
   "version": "2.4.0"
  }
 },
 "nbformat": 4,
 "nbformat_minor": 5
}
